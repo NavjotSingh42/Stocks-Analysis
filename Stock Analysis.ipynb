{
 "cells": [
  {
   "cell_type": "markdown",
   "id": "35b656d0-dd20-424d-b0d2-d8d9f6f83f60",
   "metadata": {},
   "source": [
    "# Data Analysis for Stock1 Dataset"
   ]
  },
  {
   "cell_type": "markdown",
   "id": "069d84b6-290d-46e6-8a2e-325641b5c6b7",
   "metadata": {},
   "source": [
    "About Dataset:\n",
    "\n",
    "The Dataset contains stock prices of certain companies listed in S&P 500. S&P 500 is\n",
    "a stock market index that measures the stock performance of 500 large companies\n",
    "listed on U.S. stock exchange.\n",
    "\n",
    "Below is the list of stocks considered:\n",
    "#### AAPL = Apple Stock\n",
    "#### BA = Boeing\n",
    "#### T = AT&T\n",
    "#### MGM = MGM Resorts International (Hotel Industry)\n",
    "#### AMZN = Amazon\n",
    "#### IBM = IBM\n",
    "#### TSLA = Tesla Motors\n",
    "#### GOOG = Google"
   ]
  },
  {
   "cell_type": "markdown",
   "id": "78044776-e2a7-4e0b-a3b6-70978f37bf0f",
   "metadata": {},
   "source": [
    "Importing the necessary modules"
   ]
  },
  {
   "cell_type": "code",
   "execution_count": 1,
   "id": "e3a60c59-9dce-4498-a7e6-4949b1939ed9",
   "metadata": {},
   "outputs": [],
   "source": [
    "import pandas as pd\n",
    "import numpy as np\n",
    "import seaborn as sns\n",
    "import matplotlib.pyplot as plt\n",
    "%matplotlib inline\n",
    "\n",
    "import warnings\n",
    "warnings.filterwarnings('ignore')"
   ]
  },
  {
   "cell_type": "markdown",
   "id": "64d048df-8114-4f7b-ab60-a4e359f1d7e8",
   "metadata": {},
   "source": [
    "Reading the stock1.csv data using pandas"
   ]
  },
  {
   "cell_type": "code",
   "execution_count": 2,
   "id": "e9e95b46-eb82-47b1-a286-9e1a9104c8b7",
   "metadata": {},
   "outputs": [
    {
     "data": {
      "text/html": [
       "<div>\n",
       "<style scoped>\n",
       "    .dataframe tbody tr th:only-of-type {\n",
       "        vertical-align: middle;\n",
       "    }\n",
       "\n",
       "    .dataframe tbody tr th {\n",
       "        vertical-align: top;\n",
       "    }\n",
       "\n",
       "    .dataframe thead th {\n",
       "        text-align: right;\n",
       "    }\n",
       "</style>\n",
       "<table border=\"1\" class=\"dataframe\">\n",
       "  <thead>\n",
       "    <tr style=\"text-align: right;\">\n",
       "      <th></th>\n",
       "      <th>Date</th>\n",
       "      <th>AAPL</th>\n",
       "      <th>BA</th>\n",
       "      <th>T</th>\n",
       "      <th>MGM</th>\n",
       "      <th>AMZN</th>\n",
       "      <th>IBM</th>\n",
       "      <th>TSLA</th>\n",
       "      <th>GOOG</th>\n",
       "      <th>sp500</th>\n",
       "    </tr>\n",
       "  </thead>\n",
       "  <tbody>\n",
       "    <tr>\n",
       "      <th>0</th>\n",
       "      <td>2012-01-12</td>\n",
       "      <td>60.198570</td>\n",
       "      <td>75.510002</td>\n",
       "      <td>30.120001</td>\n",
       "      <td>12.13</td>\n",
       "      <td>175.929993</td>\n",
       "      <td>180.550003</td>\n",
       "      <td>28.250000</td>\n",
       "      <td>313.644379</td>\n",
       "      <td>1295.500000</td>\n",
       "    </tr>\n",
       "    <tr>\n",
       "      <th>1</th>\n",
       "      <td>2012-01-13</td>\n",
       "      <td>59.972858</td>\n",
       "      <td>74.599998</td>\n",
       "      <td>30.070000</td>\n",
       "      <td>12.35</td>\n",
       "      <td>178.419998</td>\n",
       "      <td>179.160004</td>\n",
       "      <td>22.790001</td>\n",
       "      <td>311.328064</td>\n",
       "      <td>1289.089966</td>\n",
       "    </tr>\n",
       "    <tr>\n",
       "      <th>2</th>\n",
       "      <td>2012-01-17</td>\n",
       "      <td>60.671429</td>\n",
       "      <td>75.239998</td>\n",
       "      <td>30.250000</td>\n",
       "      <td>12.25</td>\n",
       "      <td>181.660004</td>\n",
       "      <td>180.000000</td>\n",
       "      <td>26.600000</td>\n",
       "      <td>313.116364</td>\n",
       "      <td>1293.670044</td>\n",
       "    </tr>\n",
       "    <tr>\n",
       "      <th>3</th>\n",
       "      <td>2012-01-18</td>\n",
       "      <td>61.301430</td>\n",
       "      <td>75.059998</td>\n",
       "      <td>30.330000</td>\n",
       "      <td>12.73</td>\n",
       "      <td>189.440002</td>\n",
       "      <td>181.070007</td>\n",
       "      <td>26.809999</td>\n",
       "      <td>315.273285</td>\n",
       "      <td>1308.040039</td>\n",
       "    </tr>\n",
       "    <tr>\n",
       "      <th>4</th>\n",
       "      <td>2012-01-19</td>\n",
       "      <td>61.107143</td>\n",
       "      <td>75.559998</td>\n",
       "      <td>30.420000</td>\n",
       "      <td>12.80</td>\n",
       "      <td>194.449997</td>\n",
       "      <td>180.520004</td>\n",
       "      <td>26.760000</td>\n",
       "      <td>318.590851</td>\n",
       "      <td>1314.500000</td>\n",
       "    </tr>\n",
       "  </tbody>\n",
       "</table>\n",
       "</div>"
      ],
      "text/plain": [
       "         Date       AAPL         BA          T    MGM        AMZN         IBM  \\\n",
       "0  2012-01-12  60.198570  75.510002  30.120001  12.13  175.929993  180.550003   \n",
       "1  2012-01-13  59.972858  74.599998  30.070000  12.35  178.419998  179.160004   \n",
       "2  2012-01-17  60.671429  75.239998  30.250000  12.25  181.660004  180.000000   \n",
       "3  2012-01-18  61.301430  75.059998  30.330000  12.73  189.440002  181.070007   \n",
       "4  2012-01-19  61.107143  75.559998  30.420000  12.80  194.449997  180.520004   \n",
       "\n",
       "        TSLA        GOOG        sp500  \n",
       "0  28.250000  313.644379  1295.500000  \n",
       "1  22.790001  311.328064  1289.089966  \n",
       "2  26.600000  313.116364  1293.670044  \n",
       "3  26.809999  315.273285  1308.040039  \n",
       "4  26.760000  318.590851  1314.500000  "
      ]
     },
     "execution_count": 2,
     "metadata": {},
     "output_type": "execute_result"
    }
   ],
   "source": [
    "data = pd.read_csv(\"Downloads/stock1.csv\")\n",
    "data.head()"
   ]
  },
  {
   "cell_type": "markdown",
   "id": "3a966ab7-8e0b-4d91-8224-a754bb68462a",
   "metadata": {},
   "source": [
    "The dataset has 2159 rows and 10 columns."
   ]
  },
  {
   "cell_type": "code",
   "execution_count": 3,
   "id": "00a11680-17ea-4cf9-9810-1adc6cea61e2",
   "metadata": {},
   "outputs": [
    {
     "data": {
      "text/plain": [
       "(2159, 10)"
      ]
     },
     "execution_count": 3,
     "metadata": {},
     "output_type": "execute_result"
    }
   ],
   "source": [
    "data.shape"
   ]
  },
  {
   "cell_type": "code",
   "execution_count": 4,
   "id": "c17a2e5c-89d3-4ad1-8241-e305472b8f3b",
   "metadata": {},
   "outputs": [
    {
     "data": {
      "text/plain": [
       "Index(['Date', 'AAPL', 'BA', 'T', 'MGM', 'AMZN', 'IBM', 'TSLA', 'GOOG',\n",
       "       'sp500'],\n",
       "      dtype='object')"
      ]
     },
     "execution_count": 4,
     "metadata": {},
     "output_type": "execute_result"
    }
   ],
   "source": [
    "data.columns"
   ]
  },
  {
   "cell_type": "markdown",
   "id": "6e3efa5f-f360-498b-9572-aefa93d6e31b",
   "metadata": {},
   "source": [
    "Names of the stocks"
   ]
  },
  {
   "cell_type": "code",
   "execution_count": 5,
   "id": "cc0bebbf-d2ad-40ab-9fc9-a82a9d359fcc",
   "metadata": {},
   "outputs": [
    {
     "name": "stdout",
     "output_type": "stream",
     "text": [
      "Stock names are AAPL, BA, T, MGM, AMZN, IBM, TSLA, GOOG, sp500, "
     ]
    }
   ],
   "source": [
    "print(\"Stock names are \", end='')\n",
    "for i in data.columns[1:]:\n",
    "    print(i, end=', ')"
   ]
  },
  {
   "cell_type": "code",
   "execution_count": 6,
   "id": "6e1c6674-36be-4d42-a5c1-574a0c041284",
   "metadata": {},
   "outputs": [
    {
     "name": "stdout",
     "output_type": "stream",
     "text": [
      "<class 'pandas.core.frame.DataFrame'>\n",
      "RangeIndex: 2159 entries, 0 to 2158\n",
      "Data columns (total 10 columns):\n",
      " #   Column  Non-Null Count  Dtype  \n",
      "---  ------  --------------  -----  \n",
      " 0   Date    2159 non-null   object \n",
      " 1   AAPL    2159 non-null   float64\n",
      " 2   BA      2159 non-null   float64\n",
      " 3   T       2159 non-null   float64\n",
      " 4   MGM     2159 non-null   float64\n",
      " 5   AMZN    2159 non-null   float64\n",
      " 6   IBM     2159 non-null   float64\n",
      " 7   TSLA    2159 non-null   float64\n",
      " 8   GOOG    2159 non-null   float64\n",
      " 9   sp500   2159 non-null   float64\n",
      "dtypes: float64(9), object(1)\n",
      "memory usage: 168.8+ KB\n"
     ]
    }
   ],
   "source": [
    "data.info()"
   ]
  },
  {
   "cell_type": "code",
   "execution_count": null,
   "id": "29a10c02-940f-4edb-83ec-329208a4a94a",
   "metadata": {},
   "outputs": [],
   "source": [
    "data.describe()"
   ]
  },
  {
   "cell_type": "markdown",
   "id": "bc4e07b3-015a-45ca-857e-c965b38f5a4d",
   "metadata": {},
   "source": [
    "Average return of the S&P500"
   ]
  },
  {
   "cell_type": "code",
   "execution_count": null,
   "id": "3ac6b8c7-5ac7-4ef4-bd61-4d3660ba0063",
   "metadata": {},
   "outputs": [],
   "source": [
    "np.mean(data.sp500)"
   ]
  },
  {
   "cell_type": "markdown",
   "id": "755ce988-b758-4021-bbae-2358c19df2b3",
   "metadata": {},
   "source": [
    "To find which stock has the minimum dispertion from the mean in dollar value?"
   ]
  },
  {
   "cell_type": "markdown",
   "id": "bc72a143-3b46-4b55-a27b-25a86d377a11",
   "metadata": {},
   "source": [
    "Statistical measures like standard deviation or variance is used to quantify dispersion and make informed investment decisions."
   ]
  },
  {
   "cell_type": "markdown",
   "id": "1818bd7c-ea34-4092-bc5e-efbe3b902b28",
   "metadata": {},
   "source": [
    "\"Minimum dispersion from the mean\" means finding the stock or index that has the smallest amount of variation (volatility) from its average value (mean). In other words, it is looking for the stock that is relatively stable compared to others."
   ]
  },
  {
   "cell_type": "code",
   "execution_count": null,
   "id": "ebaee25c-7153-474b-a53b-ac9ca7ba6b8a",
   "metadata": {},
   "outputs": [],
   "source": [
    "min_var_stock = data[data.columns[1:]].var()\n",
    "min_var_stock.idxmin(), round(min_var_stock.min(),5)"
   ]
  },
  {
   "cell_type": "markdown",
   "id": "247b3900-c0f4-4430-a608-415b5c47769f",
   "metadata": {},
   "source": [
    "From above analysis we find that Tesla has the minimum variance of 10.288 from the mean value. Hence, it is the most stable stock as compared to others."
   ]
  },
  {
   "cell_type": "markdown",
   "id": "58ca226c-092f-4bdf-9983-8138c532c589",
   "metadata": {},
   "source": [
    "Let's see the maximum value of Amazon stock over the specified period"
   ]
  },
  {
   "cell_type": "code",
   "execution_count": null,
   "id": "b8a9785a-b4ee-4466-b106-56efff4bf1da",
   "metadata": {},
   "outputs": [],
   "source": [
    "data.AMZN.max()"
   ]
  },
  {
   "cell_type": "markdown",
   "id": "f2df8712-2917-40df-87c7-623dd52bdf10",
   "metadata": {},
   "source": [
    "Checking if any column has null values"
   ]
  },
  {
   "cell_type": "code",
   "execution_count": null,
   "id": "a03f5d4c-f0a0-4795-add4-ac23da92e72b",
   "metadata": {},
   "outputs": [],
   "source": [
    "data.isna().sum()"
   ]
  },
  {
   "cell_type": "markdown",
   "id": "eff6c06c-bb93-4f84-8de0-89df4c73afec",
   "metadata": {},
   "source": [
    "# Data Visualization"
   ]
  },
  {
   "cell_type": "markdown",
   "id": "f91bf92f-6a97-4e89-9d28-c38fc52921a1",
   "metadata": {},
   "source": [
    "Plotting RAW Stock prices of all the stocks from the dataset and see the trend across the years."
   ]
  },
  {
   "cell_type": "markdown",
   "id": "579da2b2-89e4-4cbe-803e-83f53cd58fc2",
   "metadata": {},
   "source": [
    "Amazon stock prices have increased drastically in the last 7 year from 2012 to 2019."
   ]
  },
  {
   "cell_type": "code",
   "execution_count": null,
   "id": "7f1bac59-ec57-427f-80a3-1a4cbd8868fe",
   "metadata": {},
   "outputs": [],
   "source": [
    "data.plot(x='Date',y=data.columns[1:])"
   ]
  },
  {
   "cell_type": "markdown",
   "id": "aefbb556-1350-4d16-87b8-d65e10574b7d",
   "metadata": {},
   "source": [
    "Plotting Normalized/Scaled Stock prices from the dataset. Normalized/Scaled stock prices means to start all of the stock prices at one point so that they can easily be compared. This will help the investors to see the amount of gains they are going to get from the listed companies."
   ]
  },
  {
   "cell_type": "code",
   "execution_count": null,
   "id": "0b3fc2e2-309d-4fdc-84e0-047b35c8e99f",
   "metadata": {},
   "outputs": [],
   "source": [
    "first_row = data[data.columns[1:]].iloc[0]\n",
    "normalized_data = data[data.columns[1:]].divide(first_row)\n",
    "normalized_data = pd.concat([normalized_data,data['Date']], axis=1)"
   ]
  },
  {
   "cell_type": "code",
   "execution_count": null,
   "id": "8ec37f88-f0ed-44d5-b41f-6a3e07e8e7d8",
   "metadata": {},
   "outputs": [],
   "source": [
    "normalized_data.plot(x='Date',y=normalized_data.columns[:-1])"
   ]
  },
  {
   "cell_type": "markdown",
   "id": "1f3bd918-c391-4e7c-88f7-1465833558ba",
   "metadata": {},
   "source": [
    "Notice the massive gains in Tesla Stock"
   ]
  },
  {
   "cell_type": "code",
   "execution_count": null,
   "id": "3834d2b2-0c0f-4663-8cb9-ad5a9cbc9c99",
   "metadata": {},
   "outputs": [],
   "source": [
    "import plotly.express as px\n",
    "fig = px.scatter(data_frame=data,x='Date', y=data.columns[1:],size_max=1)\n",
    "fig.show(renderer=\"iframe\")"
   ]
  },
  {
   "cell_type": "code",
   "execution_count": null,
   "id": "cb004f46-30a1-4a07-aaa2-383c977c27e5",
   "metadata": {},
   "outputs": [],
   "source": [
    "fig = px.scatter(data_frame=normalized_data,x='Date', y=normalized_data.columns[:-1],size_max=1)\n",
    "fig.show(renderer=\"iframe\")"
   ]
  },
  {
   "cell_type": "code",
   "execution_count": null,
   "id": "b0ab899b-0e7d-4b6e-8e30-6f2e0e7ea45e",
   "metadata": {},
   "outputs": [],
   "source": [
    "data['sp500_daily_return'] = ((data['sp500']-data['sp500'].shift(1))*100)/data['sp500'].shift(1)\n",
    "data.at[0,'sp500_daily_return'] = 0"
   ]
  },
  {
   "cell_type": "code",
   "execution_count": null,
   "id": "9edb8466-67ca-49fa-b0f7-913f2e9a3514",
   "metadata": {},
   "outputs": [],
   "source": [
    "import plotly.graph_objects as go\n",
    "fig = go.Figure(data=[go.Candlestick(x=data['Date'],\n",
    "                open=data['sp500'],\n",
    "                high=data['sp500'] + data['sp500_daily_return'],\n",
    "                low=data['sp500'] - data['sp500_daily_return'],\n",
    "                close=data['sp500'])])\n",
    "fig.show(renderer=\"iframe\")"
   ]
  },
  {
   "cell_type": "code",
   "execution_count": null,
   "id": "fb96d84a-a9c4-463b-89cc-17f77f23ff1a",
   "metadata": {},
   "outputs": [],
   "source": [
    "data['amzn_daily_return'] = ((data['AMZN']-data['AMZN'].shift(1))*100)/data['AMZN'].shift(1)\n",
    "data.at[0,'amzn_daily_return'] = 0"
   ]
  },
  {
   "cell_type": "code",
   "execution_count": null,
   "id": "6743b663-5117-44f2-a646-f00c7ba2048b",
   "metadata": {},
   "outputs": [],
   "source": [
    "def stock_daily_return(stock_name):\n",
    "    new_col_name = stock_name + '_daily_return' \n",
    "    data[new_col_name]=((data[stock_name]-data[stock_name].shift(1))*100)/data[stock_name].shift(1)\n",
    "    data.at[0,new_col_name] = 0\n",
    "\n",
    "for i in data.columns[1:-2]:\n",
    "    stock_daily_return(i)"
   ]
  },
  {
   "cell_type": "code",
   "execution_count": null,
   "id": "e084ff9e-a7dc-414c-bf17-ca7fe172669d",
   "metadata": {},
   "outputs": [],
   "source": [
    "data.head()"
   ]
  },
  {
   "cell_type": "code",
   "execution_count": null,
   "id": "ef51ba09-4a71-4b5d-b2b1-9985ca30c0b1",
   "metadata": {},
   "outputs": [],
   "source": [
    "fig = px.line(data_frame=data,x='Date', y=data.columns[10:])\n",
    "fig.show(renderer=\"iframe\")"
   ]
  },
  {
   "cell_type": "code",
   "execution_count": null,
   "id": "e2ee086b-dc61-46d1-9db5-5fdd495bd3c0",
   "metadata": {},
   "outputs": [],
   "source": [
    "first_row = data[data.columns[10:]].iloc[1]\n",
    "normalized_data1 = data[data.columns[10:]].divide(first_row)\n",
    "normalized_data1 = pd.concat([normalized_data1,data['Date']], axis=1)"
   ]
  },
  {
   "cell_type": "code",
   "execution_count": null,
   "id": "be0024c1-63c6-45b0-a164-f0ae5160d98d",
   "metadata": {},
   "outputs": [],
   "source": [
    "normalized_data1.plot(x='Date',y=normalized_data1.columns[:-1])"
   ]
  },
  {
   "cell_type": "code",
   "execution_count": null,
   "id": "bc72c735-a98e-4789-b469-b035e7967166",
   "metadata": {},
   "outputs": [],
   "source": [
    "sns.heatmap(data[data.columns[10:]].corr(), annot=True)"
   ]
  },
  {
   "cell_type": "code",
   "execution_count": null,
   "id": "c9849a75-8786-4896-9c73-f43698d902a6",
   "metadata": {},
   "outputs": [],
   "source": [
    "sns.pairplot(data[data.columns[1:10]])"
   ]
  },
  {
   "cell_type": "code",
   "execution_count": null,
   "id": "9ec06227-e9ee-49b6-8abd-e79f89da2aa0",
   "metadata": {},
   "outputs": [],
   "source": []
  }
 ],
 "metadata": {
  "kernelspec": {
   "display_name": "Python 3 (ipykernel)",
   "language": "python",
   "name": "python3"
  },
  "language_info": {
   "codemirror_mode": {
    "name": "ipython",
    "version": 3
   },
   "file_extension": ".py",
   "mimetype": "text/x-python",
   "name": "python",
   "nbconvert_exporter": "python",
   "pygments_lexer": "ipython3",
   "version": "3.11.1"
  }
 },
 "nbformat": 4,
 "nbformat_minor": 5
}
